{
 "cells": [
  {
   "cell_type": "markdown",
   "id": "7227246b",
   "metadata": {},
   "source": [
    "# Notas Faculdade Uninter"
   ]
  },
  {
   "cell_type": "markdown",
   "id": "ad7728ae",
   "metadata": {},
   "source": [
    "#### AVISO: Utilize ponto ao invés de vírgula ao digitar suas notas"
   ]
  },
  {
   "cell_type": "code",
   "execution_count": 57,
   "id": "dd91b475",
   "metadata": {},
   "outputs": [
    {
     "name": "stdout",
     "output_type": "stream",
     "text": [
      "Digite seu nome: yara\n",
      "Digite a matéria: automação ind\n",
      "Digite a nota da APOL 1: 7\n",
      "Digite a nota da APOL 2: 8\n",
      "Digite a nota da Atividade Prática: 8\n",
      "Digite a nota da Prova objetiva: 8\n",
      "\n",
      "\n",
      "Parabéns! YARA obteve aprovação na matéria de Automação Ind\n",
      "Com a nota:7.8 \n",
      "\n",
      "Até a próxima matéria!\n"
     ]
    }
   ],
   "source": [
    "nome = input (\"Digite seu nome: \").upper().strip()\n",
    "materia = input (\"Digite a matéria: \").title().strip()\n",
    "n1 = float (input (\"Digite a nota da APOL 1: \"))\n",
    "n2 = float (input (\"Digite a nota da APOL 2: \"))\n",
    "n3 = float (input (\"Digite a nota da Atividade Prática: \"))\n",
    "n4 = float (input (\"Digite a nota da Prova objetiva: \"))\n",
    "print (\"\\n\") \n",
    "resultado = float (n1*15 + n2*15 + n3*40 + n4*30) / 100\n",
    "\n",
    "if resultado >=7:\n",
    "    print(\"Parabéns! {} obteve aprovação na matéria de {}\".format(nome,materia))\n",
    "    print('Com a nota:{:.1f} '.format(resultado))\n",
    "    print(\"\\nAté a próxima matéria!\")\n",
    "elif resultado >=5:\n",
    "    print(\"{} está de recuperação na matéria de {}\".format(nome,materia))\n",
    "    print('Com a nota:{:.1f} '.format(resultado))\n",
    "    print('Para obter aprovação, vai ser somado sua nota anterior com a nota da recuperação e a média delas tem que ser maior ou igual a 5')\n",
    "else:\n",
    "    print (\"{} reprovou na matéria de {}\".format(nome,materia))\n",
    "    print ('Com a nota:{:.1f} '.format(resultado))\n",
    "    print ('Estude mais da próxima vez!')\n",
    "\n",
    "while (resultado >= 5) and (resultado <7):\n",
    "        n5 = float (input (\"Digite a nota da Prova de recuperação: \"))\n",
    "        resultado_2 = float (float(n5) + float(resultado)) / 2\n",
    "        if resultado_2 < 5:\n",
    "                print (\"\\n{} reprovou na matéria de {}\".format(nome,materia))\n",
    "                print (\"Estude mais da próxima vez!\")\n",
    "        else:\n",
    "            print(\"\\nParabéns! {} obteve aprovação na matéria de {} após obter média na recuperação!\".format(nome,materia))\n",
    "            print('Com a nota:{:.1f} '.format(resultado_2))\n",
    "            print(\"\\nAté a próxima matéria!\")\n",
    "        break"
   ]
  },
  {
   "cell_type": "code",
   "execution_count": null,
   "id": "48f4d4bd",
   "metadata": {},
   "outputs": [],
   "source": []
  }
 ],
 "metadata": {
  "kernelspec": {
   "display_name": "Python 3",
   "language": "python",
   "name": "python3"
  },
  "language_info": {
   "codemirror_mode": {
    "name": "ipython",
    "version": 3
   },
   "file_extension": ".py",
   "mimetype": "text/x-python",
   "name": "python",
   "nbconvert_exporter": "python",
   "pygments_lexer": "ipython3",
   "version": "3.6.13"
  }
 },
 "nbformat": 4,
 "nbformat_minor": 5
}
