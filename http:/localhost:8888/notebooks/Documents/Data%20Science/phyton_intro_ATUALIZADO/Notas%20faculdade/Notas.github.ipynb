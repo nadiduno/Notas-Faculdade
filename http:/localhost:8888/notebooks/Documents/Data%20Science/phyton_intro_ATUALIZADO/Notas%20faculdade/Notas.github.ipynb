nome = input ("Digite seu nome: ")
materia = input ("Digite a matéria: ")
n1 = float (input ("Digite a nota da APOL 1: "))
n2 = float (input ("Digite a nota da APOL 2: "))
n3 = float (input ("Digite a nota da Atividade Prática: "))
n4 = float (input ("Digite a nota da Prova objetiva: "))
print ("\n") 
resultado = float
resultado = (n1*15 + n2*15 + n3*30 + n4*40) / 100


if resultado >=7:
    print ("Parabéns! {} obteve aprovação na matéria de {}".format(nome,materia))
    print ('Com a nota:{:.1f} '.format(resultado))
elif resultado >= 5:
    print("{} está de recuperação na matéria de {}".format(nome,materia))
    print ('Com a nota:{:.1f} '.format(resultado))
    print ("Aguarde a data da prova de recuperação!")
else:
    print ("{} reprovou na matéria de {}".format(nome,materia))
    print ('Com a nota:{:.1f} '.format(resultado))
    print ('Estude mais da próxima vez!')
