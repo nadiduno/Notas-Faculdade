{
 "cells": [
  {
   "cell_type": "code",
   "execution_count": 1,
   "id": "2ae1351e",
   "metadata": {},
   "outputs": [],
   "source": [
    "from selenium import webdriver\n",
    "from selenium.webdriver.chrome.service import Service\n",
    "\n",
    "#abrir o navegador\n",
    "servico = Service(r'C:\\Users\\Usuário\\Downloads\\chromedriver.exe')\n",
    "navegador = webdriver.Chrome(service=servico)\n",
    "navegador.get('https://univirtus.uninter.com/ava/web/')\n",
    "navegador.maximize_window()"
   ]
  },
  {
   "cell_type": "code",
   "execution_count": 2,
   "id": "f600670f",
   "metadata": {},
   "outputs": [],
   "source": [
    "#tempo para abrir a página\n",
    "import time\n",
    "time.sleep(1.0)"
   ]
  },
  {
   "cell_type": "code",
   "execution_count": 3,
   "id": "0b8ce684",
   "metadata": {},
   "outputs": [],
   "source": [
    "#colocando login\n",
    "from selenium.webdriver.common.by import By\n",
    "\n",
    "navegador.find_element(By.ID, 'ru').send_keys(******)\n",
    "navegador.find_element(By.ID, 'senha').send_keys(\"*******\")\n",
    "navegador.find_element(By.ID, 'loginBtn').click()"
   ]
  },
  {
   "cell_type": "code",
   "execution_count": 4,
   "id": "8b89e273",
   "metadata": {},
   "outputs": [],
   "source": [
    "#clicando no univirtus\n",
    "time.sleep(1.5)\n",
    "navegador.find_element(By.CLASS_NAME, 'loginbox-ava').click()"
   ]
  },
  {
   "cell_type": "code",
   "execution_count": 9,
   "id": "5f83665b",
   "metadata": {},
   "outputs": [],
   "source": [
    "#fechar popup\n",
    "time.sleep(1.5)\n",
    "navegador.find_element(By.ID,'fecharModalPopup').click()"
   ]
  },
  {
   "cell_type": "code",
   "execution_count": 10,
   "id": "41eee954",
   "metadata": {},
   "outputs": [],
   "source": [
    "#link para abrir disciplinas em andamento\n",
    "time.sleep(1.5)\n",
    "navegador.find_element(By.XPATH, '//*[@id=\"escola_9\"]').click()\n",
    "time.sleep(0.5)\n",
    "navegador.find_element(By.XPATH,'//*[@id=\"curso_633\"]/div[1]/h4/a/span[2]').click()"
   ]
  },
  {
   "cell_type": "code",
   "execution_count": null,
   "id": "418963b6",
   "metadata": {},
   "outputs": [],
   "source": []
  }
 ],
 "metadata": {
  "kernelspec": {
   "display_name": "Python 3 (ipykernel)",
   "language": "python",
   "name": "python3"
  },
  "language_info": {
   "codemirror_mode": {
    "name": "ipython",
    "version": 3
   },
   "file_extension": ".py",
   "mimetype": "text/x-python",
   "name": "python",
   "nbconvert_exporter": "python",
   "pygments_lexer": "ipython3",
   "version": "3.9.7"
  }
 },
 "nbformat": 4,
 "nbformat_minor": 5
}
