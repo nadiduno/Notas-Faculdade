{
 "cells": [
  {
   "cell_type": "markdown",
   "id": "7c39ec60",
   "metadata": {},
   "source": [
    "## Notas Faculdade"
   ]
  },
  {
   "cell_type": "markdown",
   "id": "51d9d280",
   "metadata": {},
   "source": [
    "####  AVISO: Utilize ponto ao invés de vírgula ao digitar suas notas"
   ]
  },
  {
   "cell_type": "code",
   "execution_count": 1,
   "id": "30b25ee9",
   "metadata": {},
   "outputs": [
    {
     "name": "stdout",
     "output_type": "stream",
     "text": [
      "Digite seu nome: Yara\n",
      "Digite a matéria: Calculo integral\n",
      "Digite a nota da APOL 1: 7\n",
      "Digite a nota da APOL 2: 7.5\n",
      "Digite a nota da Atividade Prática: 8\n",
      "Digite a nota da Prova objetiva: 8.5\n",
      "\n",
      "\n",
      "Parabéns! Yara obteve aprovação na matéria de Calculo integral\n",
      "Com a nota: 7.975\n"
     ]
    }
   ],
   "source": [
    "nome = input (\"Digite seu nome: \")\n",
    "materia = input (\"Digite a matéria: \")\n",
    "n1 = float (input (\"Digite a nota da APOL 1: \"))\n",
    "n2 = float (input (\"Digite a nota da APOL 2: \"))\n",
    "n3 = float (input (\"Digite a nota da Atividade Prática: \"))\n",
    "n4 = float (input (\"Digite a nota da Prova objetiva: \"))\n",
    "print (\"\\n\") \n",
    "resultado = float\n",
    "resultado = (n1*15 + n2*15 + n3*30 + n4*40) / 100\n",
    "\n",
    "if resultado >=7:\n",
    "    print (\"Parabéns! {} obteve aprovação na matéria de {}\".format(nome,materia))\n",
    "    print ('Com a nota:{:.1f} '.format(resultado))\n",
    "elif resultado >= 5:\n",
    "    print(\"{} está de recuperação na matéria de {}\".format(nome,materia))\n",
    "    print ('Com a nota:{:.1f} '.format(resultado))\n",
    "    print (\"Aguarde a data da prova de recuperação!\")\n",
    "else:\n",
    "    print (\"{} reprovou na matéria de {}\".format(nome,materia))\n",
    "    print ('Com a nota:{:.1f} '.format(resultado))\n",
    "    print ('Estude mais da próxima vez!')"
   ]
  },
  {
   "cell_type": "code",
   "execution_count": null,
   "id": "9aef25e5",
   "metadata": {},
   "outputs": [],
   "source": []
  }
 ],
 "metadata": {
  "kernelspec": {
   "display_name": "Python 3",
   "language": "python",
   "name": "python3"
  },
  "language_info": {
   "codemirror_mode": {
    "name": "ipython",
    "version": 3
   },
   "file_extension": ".py",
   "mimetype": "text/x-python",
   "name": "python",
   "nbconvert_exporter": "python",
   "pygments_lexer": "ipython3",
   "version": "3.6.13"
  }
 },
 "nbformat": 4,
 "nbformat_minor": 5
}
